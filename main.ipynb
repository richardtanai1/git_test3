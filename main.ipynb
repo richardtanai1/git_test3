{
 "cells": [
  {
   "cell_type": "code",
   "execution_count": 170,
   "metadata": {},
   "outputs": [],
   "source": [
    "import os\n",
    "import random"
   ]
  },
  {
   "cell_type": "code",
   "execution_count": 119,
   "metadata": {},
   "outputs": [],
   "source": [
    "work_dir = os.getcwd()\n",
    "haiku_path = os.path.join(work_dir,'haiku_project','Haiku.txt')"
   ]
  },
  {
   "cell_type": "code",
   "execution_count": 120,
   "metadata": {},
   "outputs": [
    {
     "data": {
      "text/plain": [
       "'D:\\\\TEACHING\\\\00 2020 T3 Current\\\\Workshop\\\\Parallel\\\\haiku_project\\\\Haiku.txt'"
      ]
     },
     "execution_count": 120,
     "metadata": {},
     "output_type": "execute_result"
    }
   ],
   "source": [
    "haiku_path"
   ]
  },
  {
   "cell_type": "code",
   "execution_count": 121,
   "metadata": {},
   "outputs": [],
   "source": [
    "#read the haiku text\n",
    "with open(haiku_path) as haiku_reader:\n",
    "    haiku_lines = haiku_reader.readlines()"
   ]
  },
  {
   "cell_type": "code",
   "execution_count": 122,
   "metadata": {},
   "outputs": [
    {
     "data": {
      "text/plain": [
       "['#. An old silent pond\\n',\n",
       " 'A frog jumps into the pond\\n',\n",
       " '-. And jumps out again\\n',\n",
       " 'X. Splash! Silence again.\\n',\n",
       " '\\n',\n",
       " '#. A world of dew,\\n',\n",
       " 'And within every dewdrop\\n',\n",
       " 'X. A world of struggle.\\n',\n",
       " '-. My own reflection.\\n',\n",
       " '\\n',\n",
       " '#. The light of a candle\\n',\n",
       " 'Is transferred to another candle\\n',\n",
       " 'X. Spring twilight.\\n',\n",
       " '-. Summer haze.\\n',\n",
       " '\\n',\n",
       " '#. I write, erase, rewrite\\n',\n",
       " 'Erase again, and then\\n',\n",
       " 'X. A poppy blooms.\\n',\n",
       " '-. A wind blows.\\n',\n",
       " '\\n',\n",
       " '#. Over the wintry\\n',\n",
       " 'Forest, winds howl in rage\\n',\n",
       " '-. With nowhere to go.\\n',\n",
       " 'X. With no leaves to blow.\\n']"
      ]
     },
     "execution_count": 122,
     "metadata": {},
     "output_type": "execute_result"
    }
   ],
   "source": [
    "haiku_lines"
   ]
  },
  {
   "cell_type": "code",
   "execution_count": 123,
   "metadata": {},
   "outputs": [
    {
     "data": {
      "text/plain": [
       "'#. An old silent pond\\n'"
      ]
     },
     "execution_count": 123,
     "metadata": {},
     "output_type": "execute_result"
    }
   ],
   "source": [
    "haiku_lines[0]"
   ]
  },
  {
   "cell_type": "code",
   "execution_count": 124,
   "metadata": {},
   "outputs": [
    {
     "data": {
      "text/plain": [
       "25"
      ]
     },
     "execution_count": 124,
     "metadata": {},
     "output_type": "execute_result"
    }
   ],
   "source": [
    "len(haiku_lines) + 1"
   ]
  },
  {
   "cell_type": "code",
   "execution_count": 125,
   "metadata": {},
   "outputs": [
    {
     "data": {
      "text/plain": [
       "'#. An old silent pond\\n'"
      ]
     },
     "execution_count": 125,
     "metadata": {},
     "output_type": "execute_result"
    }
   ],
   "source": [
    "haiku_lines[0]"
   ]
  },
  {
   "cell_type": "code",
   "execution_count": 126,
   "metadata": {},
   "outputs": [
    {
     "data": {
      "text/plain": [
       "['#', 'An old silent pond\\n']"
      ]
     },
     "execution_count": 126,
     "metadata": {},
     "output_type": "execute_result"
    }
   ],
   "source": [
    "#remove . and \\n in a single line\n",
    "haiku_lines[0].split('. ')"
   ]
  },
  {
   "cell_type": "code",
   "execution_count": 127,
   "metadata": {},
   "outputs": [
    {
     "data": {
      "text/plain": [
       "'An old silent pond\\n'"
      ]
     },
     "execution_count": 127,
     "metadata": {},
     "output_type": "execute_result"
    }
   ],
   "source": [
    "haiku_lines[0].split('. ')[1]"
   ]
  },
  {
   "cell_type": "code",
   "execution_count": 128,
   "metadata": {},
   "outputs": [
    {
     "data": {
      "text/plain": [
       "['An old silent pond', '']"
      ]
     },
     "execution_count": 128,
     "metadata": {},
     "output_type": "execute_result"
    }
   ],
   "source": [
    "haiku_lines[0].split('. ')[1].split('\\n')"
   ]
  },
  {
   "cell_type": "code",
   "execution_count": 129,
   "metadata": {},
   "outputs": [],
   "source": [
    "line_one = haiku_lines[0].split('. ')[1].split('\\n')[0]"
   ]
  },
  {
   "cell_type": "code",
   "execution_count": 130,
   "metadata": {},
   "outputs": [
    {
     "data": {
      "text/plain": [
       "'An old silent pond'"
      ]
     },
     "execution_count": 130,
     "metadata": {},
     "output_type": "execute_result"
    }
   ],
   "source": [
    "line_one"
   ]
  },
  {
   "cell_type": "code",
   "execution_count": 131,
   "metadata": {},
   "outputs": [
    {
     "name": "stdout",
     "output_type": "stream",
     "text": [
      "Line 1: An old silent pond\n",
      "Line 1: An old silent pond\n",
      "Line 1: An old silent pond\n"
     ]
    }
   ],
   "source": [
    "print('Line 1: '+ line_one)\n",
    "print(f'Line 1: {line_one}')\n",
    "print('Line 1: {}'.format(line_one))"
   ]
  },
  {
   "cell_type": "code",
   "execution_count": 132,
   "metadata": {},
   "outputs": [],
   "source": [
    "line_one_edit"
   ]
  },
  {
   "cell_type": "code",
   "execution_count": 133,
   "metadata": {},
   "outputs": [
    {
     "data": {
      "text/plain": [
       "range(0, 24)"
      ]
     },
     "execution_count": 133,
     "metadata": {},
     "output_type": "execute_result"
    }
   ],
   "source": [
    "range(n_lines)"
   ]
  },
  {
   "cell_type": "code",
   "execution_count": 139,
   "metadata": {},
   "outputs": [
    {
     "name": "stdout",
     "output_type": "stream",
     "text": [
      "[['An old silent pond', 'A frog jumps into the pond', 'And jumps out again', 'Splash! Silence again.', 1], ['A world of dew,', 'And within every dewdrop', 'A world of struggle.', 'My own reflection.', 0], ['The light of a candle', 'Is transferred to another candle', 'Spring twilight.', 'Summer haze.', 0], ['I write, erase, rewrite', 'Erase again, and then', 'A poppy blooms.', 'A wind blows.', 0], ['Over the wintry', 'Forest, winds howl in rage', 'With nowhere to go.', 'With no leaves to blow.', 1]]\n"
     ]
    }
   ],
   "source": [
    "#[[line1,line2,line3,line4,integer_corrrect]]\n",
    "n_lines = len(haiku_lines)\n",
    "n_haiku = int((n_lines+1)/5)\n",
    "\n",
    "#for each line\n",
    "haiku_list = []\n",
    "for i in range(n_haiku):\n",
    "    #line 3 correct 0\n",
    "    #line 4 correct 1\n",
    "    if ('X' in haiku_lines[5*i+2]):\n",
    "        answer = 0\n",
    "    else:\n",
    "        answer = 1\n",
    "    \n",
    "    temp_list=[]\n",
    "    temp_list.append(haiku_lines[5*i+0].split('. ')[1].split('\\n')[0])\n",
    "    temp_list.append(haiku_lines[5*i+1].split('\\n')[0])\n",
    "    temp_list.append(haiku_lines[5*i+2].split('. ')[1].split('\\n')[0])\n",
    "    temp_list.append(haiku_lines[5*i+3].split('. ')[1].split('\\n')[0])\n",
    "    temp_list.append(answer)\n",
    "    \n",
    "    #print(temp_list)\n",
    "    \n",
    "    haiku_list.append(temp_list)\n",
    "    \n",
    "    #print(haiku_lines[5*i+2])\n",
    "print(haiku_list)"
   ]
  },
  {
   "cell_type": "code",
   "execution_count": 178,
   "metadata": {
    "scrolled": true
   },
   "outputs": [],
   "source": [
    "random.shuffle(haiku_list)"
   ]
  },
  {
   "cell_type": "code",
   "execution_count": 179,
   "metadata": {},
   "outputs": [
    {
     "data": {
      "text/plain": [
       "[['I write, erase, rewrite',\n",
       "  'Erase again, and then',\n",
       "  'A poppy blooms.',\n",
       "  'A wind blows.',\n",
       "  0],\n",
       " ['The light of a candle',\n",
       "  'Is transferred to another candle',\n",
       "  'Spring twilight.',\n",
       "  'Summer haze.',\n",
       "  0],\n",
       " ['Over the wintry',\n",
       "  'Forest, winds howl in rage',\n",
       "  'With nowhere to go.',\n",
       "  'With no leaves to blow.',\n",
       "  1],\n",
       " ['An old silent pond',\n",
       "  'A frog jumps into the pond',\n",
       "  'And jumps out again',\n",
       "  'Splash! Silence again.',\n",
       "  1],\n",
       " ['A world of dew,',\n",
       "  'And within every dewdrop',\n",
       "  'A world of struggle.',\n",
       "  'My own reflection.',\n",
       "  0]]"
      ]
     },
     "execution_count": 179,
     "metadata": {},
     "output_type": "execute_result"
    }
   ],
   "source": [
    "haiku_list"
   ]
  },
  {
   "cell_type": "code",
   "execution_count": 147,
   "metadata": {
    "scrolled": true
   },
   "outputs": [
    {
     "name": "stdout",
     "output_type": "stream",
     "text": [
      "['An old silent pond', 'A frog jumps into the pond', 'And jumps out again', 'Splash! Silence again.', 1]\n",
      "An old silent pond\n",
      "A frog jumps into the pond\n",
      "0. And jumps out again\n",
      "1. Splash! Silence again.\n",
      "\n",
      "['A world of dew,', 'And within every dewdrop', 'A world of struggle.', 'My own reflection.', 0]\n",
      "A world of dew,\n",
      "And within every dewdrop\n",
      "0. A world of struggle.\n",
      "1. My own reflection.\n",
      "\n",
      "['The light of a candle', 'Is transferred to another candle', 'Spring twilight.', 'Summer haze.', 0]\n",
      "The light of a candle\n",
      "Is transferred to another candle\n",
      "0. Spring twilight.\n",
      "1. Summer haze.\n",
      "\n",
      "['I write, erase, rewrite', 'Erase again, and then', 'A poppy blooms.', 'A wind blows.', 0]\n",
      "I write, erase, rewrite\n",
      "Erase again, and then\n",
      "0. A poppy blooms.\n",
      "1. A wind blows.\n",
      "\n",
      "['Over the wintry', 'Forest, winds howl in rage', 'With nowhere to go.', 'With no leaves to blow.', 1]\n",
      "Over the wintry\n",
      "Forest, winds howl in rage\n",
      "0. With nowhere to go.\n",
      "1. With no leaves to blow.\n",
      "\n"
     ]
    }
   ],
   "source": [
    "for haiku in haiku_list:\n",
    "    print(haiku)\n",
    "    print(haiku[0])\n",
    "    print(haiku[1])\n",
    "    print(\"0. \" + haiku[2])\n",
    "    print(\"1. \" + haiku[3])\n",
    "    print(\"\")\n",
    "    "
   ]
  },
  {
   "cell_type": "code",
   "execution_count": 166,
   "metadata": {},
   "outputs": [],
   "source": [
    "num_to_text = {\n",
    "    0:'First',\n",
    "    1:'Second'\n",
    "}"
   ]
  },
  {
   "cell_type": "code",
   "execution_count": 167,
   "metadata": {},
   "outputs": [
    {
     "data": {
      "text/plain": [
       "'First'"
      ]
     },
     "execution_count": 167,
     "metadata": {},
     "output_type": "execute_result"
    }
   ],
   "source": [
    "num_to_text[0]"
   ]
  },
  {
   "cell_type": "code",
   "execution_count": null,
   "metadata": {},
   "outputs": [
    {
     "name": "stdout",
     "output_type": "stream",
     "text": [
      "I write, erase, rewrite\n",
      "Erase again, and then\n",
      "First. A poppy blooms.\n",
      "Second. A wind blows.\n",
      "correct answer is First\n",
      "\n",
      "asdasdas\n",
      "The light of a candle\n",
      "Is transferred to another candle\n",
      "First. Spring twilight.\n",
      "Second. Summer haze.\n",
      "correct answer is First\n",
      "\n",
      "asdasdadas\n",
      "Over the wintry\n",
      "Forest, winds howl in rage\n",
      "First. With nowhere to go.\n",
      "Second. With no leaves to blow.\n",
      "correct answer is Second\n",
      "\n",
      "asdasd\n",
      "An old silent pond\n",
      "A frog jumps into the pond\n",
      "First. And jumps out again\n",
      "Second. Splash! Silence again.\n",
      "correct answer is Second\n",
      "\n",
      "adasd\n",
      "A world of dew,\n",
      "And within every dewdrop\n",
      "First. A world of struggle.\n",
      "Second. My own reflection.\n",
      "correct answer is First\n",
      "\n"
     ]
    }
   ],
   "source": [
    "for i in range(len(haiku_list)):\n",
    "    print(haiku_list[i][0])\n",
    "    print(haiku_list[i][1])\n",
    "    print(\"First. \" + haiku_list[i][2])\n",
    "    print(\"Second. \" + haiku_list[i][3])\n",
    "    print(\"correct answer is \" + num_to_text[(haiku_list[i][4])])\n",
    "    print(\"\")\n",
    "    a = input()\n",
    "    "
   ]
  },
  {
   "cell_type": "code",
   "execution_count": null,
   "metadata": {},
   "outputs": [],
   "source": []
  }
 ],
 "metadata": {
  "kernelspec": {
   "display_name": "Python 3",
   "language": "python",
   "name": "python3"
  },
  "language_info": {
   "codemirror_mode": {
    "name": "ipython",
    "version": 3
   },
   "file_extension": ".py",
   "mimetype": "text/x-python",
   "name": "python",
   "nbconvert_exporter": "python",
   "pygments_lexer": "ipython3",
   "version": "3.6.5"
  }
 },
 "nbformat": 4,
 "nbformat_minor": 2
}
